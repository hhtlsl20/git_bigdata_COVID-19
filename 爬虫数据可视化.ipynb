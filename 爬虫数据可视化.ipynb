{
 "cells": [
  {
   "cell_type": "code",
   "execution_count": 1,
   "metadata": {},
   "outputs": [],
   "source": [
    "import requests\n",
    "from bs4 import BeautifulSoup\n",
    "from selenium import webdriver\n",
    "from lxml import etree\n",
    "import pandas as pd\n",
    "import json"
   ]
  },
  {
   "cell_type": "code",
   "execution_count": 2,
   "metadata": {},
   "outputs": [],
   "source": [
    "headers = {\n",
    "            'User-Agent':'Mozilla/5.0 (Windows NT 10.0; WOW64) AppleWebKit/537.36 (KHTML, like Gecko) Chrome/80.0.3987.149 Safari/537.36'\n",
    "        }"
   ]
  },
  {
   "cell_type": "code",
   "execution_count": 3,
   "metadata": {},
   "outputs": [],
   "source": [
    "url='https://news.qq.com/zt2020/page/feiyan.htm'\n",
    "response = requests.get(url,headers = headers)"
   ]
  },
  {
   "cell_type": "code",
   "execution_count": 4,
   "metadata": {},
   "outputs": [
    {
     "data": {
      "text/plain": [
       "200"
      ]
     },
     "execution_count": 4,
     "metadata": {},
     "output_type": "execute_result"
    }
   ],
   "source": [
    "# 判断是否响应成功\n",
    "response.status_code"
   ]
  },
  {
   "cell_type": "code",
   "execution_count": 5,
   "metadata": {},
   "outputs": [],
   "source": [
    "# 指定自己Webdirver的路径\n",
    "driver_url = r'D:\\\\youdao\\\\chromedriver.exe'\n",
    "# 打开浏览器窗口\n",
    "driver = webdriver.Chrome(executable_path=driver_url)\n",
    "# 打开网页\n",
    "driver.get(url)"
   ]
  },
  {
   "cell_type": "code",
   "execution_count": 6,
   "metadata": {},
   "outputs": [],
   "source": [
    "# 从dirver.page_source属性，获得网页html\n",
    "html = driver.page_source"
   ]
  },
  {
   "cell_type": "code",
   "execution_count": 7,
   "metadata": {},
   "outputs": [],
   "source": [
    "# 关闭浏览器窗口\n",
    "driver.close()"
   ]
  },
  {
   "cell_type": "code",
   "execution_count": 8,
   "metadata": {},
   "outputs": [],
   "source": [
    "# 定位并读取数据所在的table   \n",
    "soup = BeautifulSoup(html,'lxml')  # 使用lxml解析器去解析html \n",
    "table = soup.find('div',class_=\"listWraper filterGray\").find('table')"
   ]
  },
  {
   "cell_type": "code",
   "execution_count": 9,
   "metadata": {},
   "outputs": [
    {
     "data": {
      "text/plain": [
       "bs4.element.Tag"
      ]
     },
     "execution_count": 9,
     "metadata": {},
     "output_type": "execute_result"
    }
   ],
   "source": [
    "type(table)"
   ]
  },
  {
   "cell_type": "code",
   "execution_count": 10,
   "metadata": {},
   "outputs": [],
   "source": [
    "# prettify()方法读到得是列表，由于只有一个表格，所以[0]\n",
    "data_df = pd.read_html(table.prettify())[0]"
   ]
  },
  {
   "cell_type": "code",
   "execution_count": 11,
   "metadata": {},
   "outputs": [
    {
     "data": {
      "text/html": [
       "<div>\n",
       "<style scoped>\n",
       "    .dataframe tbody tr th:only-of-type {\n",
       "        vertical-align: middle;\n",
       "    }\n",
       "\n",
       "    .dataframe tbody tr th {\n",
       "        vertical-align: top;\n",
       "    }\n",
       "\n",
       "    .dataframe thead th {\n",
       "        text-align: right;\n",
       "    }\n",
       "</style>\n",
       "<table border=\"1\" class=\"dataframe\">\n",
       "  <thead>\n",
       "    <tr style=\"text-align: right;\">\n",
       "      <th></th>\n",
       "      <th>地区</th>\n",
       "      <th>新增确诊</th>\n",
       "      <th>累计确诊</th>\n",
       "      <th>治愈</th>\n",
       "      <th>死亡</th>\n",
       "      <th>疫情</th>\n",
       "    </tr>\n",
       "  </thead>\n",
       "  <tbody>\n",
       "    <tr>\n",
       "      <th>0</th>\n",
       "      <td>美国</td>\n",
       "      <td>56130</td>\n",
       "      <td>4371839</td>\n",
       "      <td>2090129</td>\n",
       "      <td>149849</td>\n",
       "      <td>详情</td>\n",
       "    </tr>\n",
       "    <tr>\n",
       "      <th>1</th>\n",
       "      <td>巴西</td>\n",
       "      <td>24578</td>\n",
       "      <td>2419091</td>\n",
       "      <td>1812913</td>\n",
       "      <td>87004</td>\n",
       "      <td>详情</td>\n",
       "    </tr>\n",
       "    <tr>\n",
       "      <th>2</th>\n",
       "      <td>印度</td>\n",
       "      <td>49931</td>\n",
       "      <td>1435616</td>\n",
       "      <td>917568</td>\n",
       "      <td>32771</td>\n",
       "      <td>详情</td>\n",
       "    </tr>\n",
       "    <tr>\n",
       "      <th>3</th>\n",
       "      <td>俄罗斯</td>\n",
       "      <td>5741</td>\n",
       "      <td>811073</td>\n",
       "      <td>599172</td>\n",
       "      <td>13249</td>\n",
       "      <td>详情</td>\n",
       "    </tr>\n",
       "    <tr>\n",
       "      <th>4</th>\n",
       "      <td>南非</td>\n",
       "      <td>11233</td>\n",
       "      <td>445433</td>\n",
       "      <td>265077</td>\n",
       "      <td>6769</td>\n",
       "      <td>详情</td>\n",
       "    </tr>\n",
       "  </tbody>\n",
       "</table>\n",
       "</div>"
      ],
      "text/plain": [
       "    地区   新增确诊     累计确诊       治愈      死亡  疫情\n",
       "0   美国  56130  4371839  2090129  149849  详情\n",
       "1   巴西  24578  2419091  1812913   87004  详情\n",
       "2   印度  49931  1435616   917568   32771  详情\n",
       "3  俄罗斯   5741   811073   599172   13249  详情\n",
       "4   南非  11233   445433   265077    6769  详情"
      ]
     },
     "execution_count": 11,
     "metadata": {},
     "output_type": "execute_result"
    }
   ],
   "source": [
    "data_df.head()"
   ]
  },
  {
   "cell_type": "code",
   "execution_count": 12,
   "metadata": {},
   "outputs": [
    {
     "data": {
      "text/html": [
       "<div>\n",
       "<style scoped>\n",
       "    .dataframe tbody tr th:only-of-type {\n",
       "        vertical-align: middle;\n",
       "    }\n",
       "\n",
       "    .dataframe tbody tr th {\n",
       "        vertical-align: top;\n",
       "    }\n",
       "\n",
       "    .dataframe thead th {\n",
       "        text-align: right;\n",
       "    }\n",
       "</style>\n",
       "<table border=\"1\" class=\"dataframe\">\n",
       "  <thead>\n",
       "    <tr style=\"text-align: right;\">\n",
       "      <th></th>\n",
       "      <th>地区</th>\n",
       "      <th>新增确诊</th>\n",
       "      <th>累计确诊</th>\n",
       "      <th>治愈</th>\n",
       "      <th>死亡</th>\n",
       "    </tr>\n",
       "  </thead>\n",
       "  <tbody>\n",
       "    <tr>\n",
       "      <th>0</th>\n",
       "      <td>美国</td>\n",
       "      <td>56130</td>\n",
       "      <td>4371839</td>\n",
       "      <td>2090129</td>\n",
       "      <td>149849</td>\n",
       "    </tr>\n",
       "    <tr>\n",
       "      <th>1</th>\n",
       "      <td>巴西</td>\n",
       "      <td>24578</td>\n",
       "      <td>2419091</td>\n",
       "      <td>1812913</td>\n",
       "      <td>87004</td>\n",
       "    </tr>\n",
       "    <tr>\n",
       "      <th>2</th>\n",
       "      <td>印度</td>\n",
       "      <td>49931</td>\n",
       "      <td>1435616</td>\n",
       "      <td>917568</td>\n",
       "      <td>32771</td>\n",
       "    </tr>\n",
       "    <tr>\n",
       "      <th>3</th>\n",
       "      <td>俄罗斯</td>\n",
       "      <td>5741</td>\n",
       "      <td>811073</td>\n",
       "      <td>599172</td>\n",
       "      <td>13249</td>\n",
       "    </tr>\n",
       "    <tr>\n",
       "      <th>4</th>\n",
       "      <td>南非</td>\n",
       "      <td>11233</td>\n",
       "      <td>445433</td>\n",
       "      <td>265077</td>\n",
       "      <td>6769</td>\n",
       "    </tr>\n",
       "  </tbody>\n",
       "</table>\n",
       "</div>"
      ],
      "text/plain": [
       "    地区   新增确诊     累计确诊       治愈      死亡\n",
       "0   美国  56130  4371839  2090129  149849\n",
       "1   巴西  24578  2419091  1812913   87004\n",
       "2   印度  49931  1435616   917568   32771\n",
       "3  俄罗斯   5741   811073   599172   13249\n",
       "4   南非  11233   445433   265077    6769"
      ]
     },
     "execution_count": 12,
     "metadata": {},
     "output_type": "execute_result"
    }
   ],
   "source": [
    "# 去除最后一列无关项\n",
    "data_df = data_df.iloc[:,0:len(data_df.columns)-1]\n",
    "#data_df.shape[0]\n",
    "data_df.head()"
   ]
  },
  {
   "cell_type": "code",
   "execution_count": 13,
   "metadata": {},
   "outputs": [],
   "source": [
    "#保存为json格式\n",
    "#data_df.to_json('./data/data_df.json')\n",
    "#import json\n",
    "# 从文件中读入. json.load方法\n",
    "#with open('./data/data_df.json','r',encoding='utf-8') as json_file:\n",
    "#    data_dict = json.load(json_file) "
   ]
  },
  {
   "cell_type": "code",
   "execution_count": 14,
   "metadata": {},
   "outputs": [],
   "source": [
    "# series 可以直接转为 list\n",
    "countrys = list(data_df['地区'])\n",
    "existing_confirm=list(data_df['累计确诊'])"
   ]
  },
  {
   "cell_type": "code",
   "execution_count": 15,
   "metadata": {},
   "outputs": [
    {
     "ename": "FileNotFoundError",
     "evalue": "[Errno 2] No such file or directory: 'name_map.json'",
     "output_type": "error",
     "traceback": [
      "\u001b[1;31m---------------------------------------------------------------------------\u001b[0m",
      "\u001b[1;31mFileNotFoundError\u001b[0m                         Traceback (most recent call last)",
      "\u001b[1;32m<ipython-input-15-e331a38ed5ee>\u001b[0m in \u001b[0;36m<module>\u001b[1;34m\u001b[0m\n\u001b[0;32m      1\u001b[0m \u001b[1;31m# 读入一个国家名称的中英映射文件，用于中英转化。\u001b[0m\u001b[1;33m\u001b[0m\u001b[1;33m\u001b[0m\u001b[1;33m\u001b[0m\u001b[0m\n\u001b[0;32m      2\u001b[0m \u001b[1;32mimport\u001b[0m \u001b[0mjson\u001b[0m\u001b[1;33m\u001b[0m\u001b[1;33m\u001b[0m\u001b[0m\n\u001b[1;32m----> 3\u001b[1;33m \u001b[1;32mwith\u001b[0m \u001b[0mopen\u001b[0m\u001b[1;33m(\u001b[0m\u001b[1;34m'name_map.json'\u001b[0m\u001b[1;33m,\u001b[0m\u001b[1;34m'r'\u001b[0m\u001b[1;33m,\u001b[0m\u001b[0mencoding\u001b[0m\u001b[1;33m=\u001b[0m\u001b[1;34m'utf-8'\u001b[0m\u001b[1;33m)\u001b[0m \u001b[1;32mas\u001b[0m \u001b[0mjson_file\u001b[0m\u001b[1;33m:\u001b[0m\u001b[1;33m\u001b[0m\u001b[1;33m\u001b[0m\u001b[0m\n\u001b[0m\u001b[0;32m      4\u001b[0m     \u001b[1;31m# json.dump()和json.load()用于读写。 dumps()和loads()用于dict和json的转换\u001b[0m\u001b[1;33m\u001b[0m\u001b[1;33m\u001b[0m\u001b[1;33m\u001b[0m\u001b[0m\n\u001b[0;32m      5\u001b[0m     \u001b[0mname_map\u001b[0m \u001b[1;33m=\u001b[0m \u001b[0mjson\u001b[0m\u001b[1;33m.\u001b[0m\u001b[0mload\u001b[0m\u001b[1;33m(\u001b[0m\u001b[0mjson_file\u001b[0m\u001b[1;33m)\u001b[0m\u001b[1;33m\u001b[0m\u001b[1;33m\u001b[0m\u001b[0m\n",
      "\u001b[1;31mFileNotFoundError\u001b[0m: [Errno 2] No such file or directory: 'name_map.json'"
     ]
    }
   ],
   "source": [
    "# 读入一个国家名称的中英映射文件，用于中英转化。\n",
    "import json\n",
    "with open('name_map.json','r',encoding='utf-8') as json_file:\n",
    "    # json.dump()和json.load()用于读写。 dumps()和loads()用于dict和json的转换\n",
    "    name_map = json.load(json_file)"
   ]
  },
  {
   "cell_type": "code",
   "execution_count": null,
   "metadata": {},
   "outputs": [],
   "source": [
    "# 键值互换,不用管，暂时注释掉  \n",
    "# name_map = dict(zip(name_map.values(),name_map.keys()))"
   ]
  },
  {
   "cell_type": "code",
   "execution_count": null,
   "metadata": {},
   "outputs": [],
   "source": [
    "print( list(name_map.keys())[0] )\n",
    "print( list(name_map.values())[0] )"
   ]
  },
  {
   "cell_type": "code",
   "execution_count": null,
   "metadata": {},
   "outputs": [],
   "source": [
    "# 将国家名称改为英文   用 dict.get()方法，因为不能保证一定有完整的映射关系。\n",
    "countrys = [name_map.get(name) for name in countrys]"
   ]
  },
  {
   "cell_type": "code",
   "execution_count": null,
   "metadata": {},
   "outputs": [],
   "source": [
    "list_=[list(z) for z in zip(countrys,existing_confirm)]\n",
    "# 剔除国家名称为空的数据\n",
    "list_data=[x for x in list_ if x[0]!=None]"
   ]
  },
  {
   "cell_type": "code",
   "execution_count": null,
   "metadata": {},
   "outputs": [],
   "source": [
    "#list_data"
   ]
  },
  {
   "cell_type": "code",
   "execution_count": null,
   "metadata": {},
   "outputs": [],
   "source": [
    "import json\n",
    "import datetime\n",
    "from pyecharts.charts import Map\n",
    "from pyecharts import options as opts\n",
    "\n",
    "\n",
    "# 疫情地图\n",
    "# 自定义的每一段的范围，以及每一段的特别的样式。\n",
    "pieces = [\n",
    "    {'min': 100000, 'color': '#540d0d'},\n",
    "    {'max': 99999, 'min': 10000, 'color': '#9c1414'},\n",
    "    {'max': 9999, 'min': 5000, 'color': '#d92727'},\n",
    "    {'max': 4999, 'min': 1000,'color': '#ed3232'},\n",
    "    {'max': 999, 'min': 100, 'color': '#f27777'},\n",
    "    {'max': 99, 'min': 10, 'color': '#f7adad'},\n",
    "    {'max': 9, 'min': 1, 'color': '#f7e4e4'},\n",
    "\n",
    "]\n",
    "\n",
    "\n",
    "m = Map()\n",
    "m.add(\"累计确诊\", list_data, 'world')\n",
    "\n",
    "#系列配置项,可配置图元样式、文字样式、标签样式、点线样式等\n",
    "m.set_series_opts(label_opts=opts.LabelOpts(is_show=False))\n",
    "#全局配置项,可配置标题、动画、坐标轴、图例等\n",
    "m.set_global_opts(title_opts=opts.TitleOpts(title='全球实时确诊数据',\n",
    "                                            subtitle='数据来源：腾讯网'),\n",
    "                  legend_opts=opts.LegendOpts(is_show=False),\n",
    "                  visualmap_opts=opts.VisualMapOpts(pieces=pieces,is_piecewise=True,   \n",
    "                                                    is_show=True))       \n",
    "#render（）生成本地 HTML 文件\n",
    "m.render(path='./data/确诊数据.html')\n"
   ]
  },
  {
   "cell_type": "code",
   "execution_count": null,
   "metadata": {},
   "outputs": [],
   "source": [
    "import pyecharts.options as opts\n",
    "from pyecharts.charts import MapGlobe\n",
    "from pyecharts.globals import ThemeType\n",
    "\n",
    "c = (\n",
    "    MapGlobe()\n",
    "    .add_schema()\n",
    "    .add(\n",
    "        maptype=\"world\",\n",
    "        series_name=\"World\",\n",
    "        data_pair=list_data,\n",
    "    )\n",
    "    .set_series_opts(label_opts=opts.LabelOpts(is_show=False))\n",
    "    .set_global_opts(title_opts=opts.TitleOpts(title='全球实时确诊数据',\n",
    "            subtitle='数据来源：腾讯网'),\n",
    "            legend_opts=opts.LegendOpts(\n",
    "                is_show=False),\n",
    "                visualmap_opts=opts.VisualMapOpts(\n",
    "                pieces=pieces,\n",
    "                is_piecewise=True,   \n",
    "                is_show=True,\n",
    "\n",
    "            )\n",
    "    )\n",
    "    .render(\"map_globe_base.html\")\n",
    ")"
   ]
  },
  {
   "cell_type": "code",
   "execution_count": null,
   "metadata": {},
   "outputs": [],
   "source": []
  },
  {
   "cell_type": "code",
   "execution_count": null,
   "metadata": {},
   "outputs": [],
   "source": []
  },
  {
   "cell_type": "code",
   "execution_count": null,
   "metadata": {},
   "outputs": [],
   "source": []
  },
  {
   "cell_type": "code",
   "execution_count": null,
   "metadata": {},
   "outputs": [],
   "source": []
  },
  {
   "cell_type": "code",
   "execution_count": null,
   "metadata": {},
   "outputs": [],
   "source": []
  },
  {
   "cell_type": "code",
   "execution_count": null,
   "metadata": {},
   "outputs": [],
   "source": []
  },
  {
   "cell_type": "code",
   "execution_count": null,
   "metadata": {},
   "outputs": [],
   "source": []
  },
  {
   "cell_type": "code",
   "execution_count": null,
   "metadata": {},
   "outputs": [],
   "source": []
  },
  {
   "cell_type": "code",
   "execution_count": null,
   "metadata": {},
   "outputs": [],
   "source": []
  },
  {
   "cell_type": "code",
   "execution_count": null,
   "metadata": {},
   "outputs": [],
   "source": []
  }
 ],
 "metadata": {
  "kernelspec": {
   "display_name": "Python 3",
   "language": "python",
   "name": "python3"
  },
  "language_info": {
   "codemirror_mode": {
    "name": "ipython",
    "version": 3
   },
   "file_extension": ".py",
   "mimetype": "text/x-python",
   "name": "python",
   "nbconvert_exporter": "python",
   "pygments_lexer": "ipython3",
   "version": "3.7.6"
  }
 },
 "nbformat": 4,
 "nbformat_minor": 2
}
